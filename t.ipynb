{
 "metadata": {
  "language_info": {
   "codemirror_mode": {
    "name": "ipython",
    "version": 3
   },
   "file_extension": ".py",
   "mimetype": "text/x-python",
   "name": "python",
   "nbconvert_exporter": "python",
   "pygments_lexer": "ipython3",
   "version": "3.8.5-final"
  },
  "orig_nbformat": 2,
  "kernelspec": {
   "name": "python3",
   "display_name": "Python 3.8.5 64-bit ('udacity': conda)",
   "metadata": {
    "interpreter": {
     "hash": "40dc57e08855420af4fa75831c676d9476e6c268465ca5f538a33b30ec688ca9"
    }
   }
  }
 },
 "nbformat": 4,
 "nbformat_minor": 2,
 "cells": [
  {
   "cell_type": "code",
   "execution_count": 74,
   "metadata": {},
   "outputs": [],
   "source": [
    "import numpy as np \n",
    "from PIL import Image \n",
    "from tqdm import tqdm\n",
    "import os\n",
    "import pandas as pd \n",
    "from sklearn.model_selection import train_test_split"
   ]
  },
  {
   "cell_type": "code",
   "execution_count": 53,
   "metadata": {},
   "outputs": [
    {
     "output_type": "execute_result",
     "data": {
      "text/plain": [
       "       filename                                           file_url  height  \\\n",
       "0  IMG_1162.JPG  /Users/smruti.chourasia1/Desktop/Electric/scra...    3024   \n",
       "1  IMG_1162.JPG  /Users/smruti.chourasia1/Desktop/Electric/scra...    3024   \n",
       "2  IMG_1162.JPG  /Users/smruti.chourasia1/Desktop/Electric/scra...    3024   \n",
       "3  IMG_1162.JPG  /Users/smruti.chourasia1/Desktop/Electric/scra...    3024   \n",
       "4  IMG_1162.JPG  /Users/smruti.chourasia1/Desktop/Electric/scra...    3024   \n",
       "\n",
       "   width  channel    class intensity    xmin    xmax    ymin    ymax  \\\n",
       "0   4032        3  Scratch       Low  1923.3  2197.9  1444.3  1647.5   \n",
       "1   4032        3  Scratch       Low   443.4  1727.2  1847.2  2007.7   \n",
       "2   4032        3  Scratch       Low   265.1   561.1  1183.9  1401.5   \n",
       "3   4032        3  Scratch       Low  1039.0  1249.4   688.3   830.9   \n",
       "4   4032        3  Scratch       Low  1031.8  1334.9   955.7  1126.9   \n",
       "\n",
       "                                             polygon   owner  \n",
       "0  [1937.6, 1444.3, 1959, 1572.6, 2176.5, 1590.5,...  smruti  \n",
       "1  [468.4, 1879.3, 828.6, 1847.2, 832.1, 1882.9, ...  smruti  \n",
       "2  [500.5, 1194.6, 265.1, 1372.9, 293.6, 1401.5, ...  smruti  \n",
       "3  [1210.1, 688.3, 1053.2, 756, 1039, 830.9, 1249...  smruti  \n",
       "4  [1228, 962.8, 1031.8, 1059.1, 1053.2, 1126.9, ...  smruti  "
      ],
      "text/html": "<div>\n<style scoped>\n    .dataframe tbody tr th:only-of-type {\n        vertical-align: middle;\n    }\n\n    .dataframe tbody tr th {\n        vertical-align: top;\n    }\n\n    .dataframe thead th {\n        text-align: right;\n    }\n</style>\n<table border=\"1\" class=\"dataframe\">\n  <thead>\n    <tr style=\"text-align: right;\">\n      <th></th>\n      <th>filename</th>\n      <th>file_url</th>\n      <th>height</th>\n      <th>width</th>\n      <th>channel</th>\n      <th>class</th>\n      <th>intensity</th>\n      <th>xmin</th>\n      <th>xmax</th>\n      <th>ymin</th>\n      <th>ymax</th>\n      <th>polygon</th>\n      <th>owner</th>\n    </tr>\n  </thead>\n  <tbody>\n    <tr>\n      <th>0</th>\n      <td>IMG_1162.JPG</td>\n      <td>/Users/smruti.chourasia1/Desktop/Electric/scra...</td>\n      <td>3024</td>\n      <td>4032</td>\n      <td>3</td>\n      <td>Scratch</td>\n      <td>Low</td>\n      <td>1923.3</td>\n      <td>2197.9</td>\n      <td>1444.3</td>\n      <td>1647.5</td>\n      <td>[1937.6, 1444.3, 1959, 1572.6, 2176.5, 1590.5,...</td>\n      <td>smruti</td>\n    </tr>\n    <tr>\n      <th>1</th>\n      <td>IMG_1162.JPG</td>\n      <td>/Users/smruti.chourasia1/Desktop/Electric/scra...</td>\n      <td>3024</td>\n      <td>4032</td>\n      <td>3</td>\n      <td>Scratch</td>\n      <td>Low</td>\n      <td>443.4</td>\n      <td>1727.2</td>\n      <td>1847.2</td>\n      <td>2007.7</td>\n      <td>[468.4, 1879.3, 828.6, 1847.2, 832.1, 1882.9, ...</td>\n      <td>smruti</td>\n    </tr>\n    <tr>\n      <th>2</th>\n      <td>IMG_1162.JPG</td>\n      <td>/Users/smruti.chourasia1/Desktop/Electric/scra...</td>\n      <td>3024</td>\n      <td>4032</td>\n      <td>3</td>\n      <td>Scratch</td>\n      <td>Low</td>\n      <td>265.1</td>\n      <td>561.1</td>\n      <td>1183.9</td>\n      <td>1401.5</td>\n      <td>[500.5, 1194.6, 265.1, 1372.9, 293.6, 1401.5, ...</td>\n      <td>smruti</td>\n    </tr>\n    <tr>\n      <th>3</th>\n      <td>IMG_1162.JPG</td>\n      <td>/Users/smruti.chourasia1/Desktop/Electric/scra...</td>\n      <td>3024</td>\n      <td>4032</td>\n      <td>3</td>\n      <td>Scratch</td>\n      <td>Low</td>\n      <td>1039.0</td>\n      <td>1249.4</td>\n      <td>688.3</td>\n      <td>830.9</td>\n      <td>[1210.1, 688.3, 1053.2, 756, 1039, 830.9, 1249...</td>\n      <td>smruti</td>\n    </tr>\n    <tr>\n      <th>4</th>\n      <td>IMG_1162.JPG</td>\n      <td>/Users/smruti.chourasia1/Desktop/Electric/scra...</td>\n      <td>3024</td>\n      <td>4032</td>\n      <td>3</td>\n      <td>Scratch</td>\n      <td>Low</td>\n      <td>1031.8</td>\n      <td>1334.9</td>\n      <td>955.7</td>\n      <td>1126.9</td>\n      <td>[1228, 962.8, 1031.8, 1059.1, 1053.2, 1126.9, ...</td>\n      <td>smruti</td>\n    </tr>\n  </tbody>\n</table>\n</div>"
     },
     "metadata": {},
     "execution_count": 53
    }
   ],
   "source": [
    "df = pd.read_csv('final_tagging.csv')\n",
    "df.head()"
   ]
  },
  {
   "cell_type": "code",
   "execution_count": 54,
   "metadata": {},
   "outputs": [],
   "source": [
    "df['bbox'] =df[['xmin', 'ymin', 'xmax' , 'ymax' , 'width', 'height']].values.tolist()"
   ]
  },
  {
   "cell_type": "code",
   "execution_count": 55,
   "metadata": {},
   "outputs": [],
   "source": [
    "df = df[['filename', 'bbox']]"
   ]
  },
  {
   "cell_type": "code",
   "execution_count": 56,
   "metadata": {},
   "outputs": [
    {
     "output_type": "execute_result",
     "data": {
      "text/plain": [
       "       filename                                              bbox\n",
       "0  IMG_1162.JPG  [1923.3, 1444.3, 2197.9, 1647.5, 4032.0, 3024.0]\n",
       "1  IMG_1162.JPG   [443.4, 1847.2, 1727.2, 2007.7, 4032.0, 3024.0]\n",
       "2  IMG_1162.JPG    [265.1, 1183.9, 561.1, 1401.5, 4032.0, 3024.0]\n",
       "3  IMG_1162.JPG    [1039.0, 688.3, 1249.4, 830.9, 4032.0, 3024.0]\n",
       "4  IMG_1162.JPG   [1031.8, 955.7, 1334.9, 1126.9, 4032.0, 3024.0]"
      ],
      "text/html": "<div>\n<style scoped>\n    .dataframe tbody tr th:only-of-type {\n        vertical-align: middle;\n    }\n\n    .dataframe tbody tr th {\n        vertical-align: top;\n    }\n\n    .dataframe thead th {\n        text-align: right;\n    }\n</style>\n<table border=\"1\" class=\"dataframe\">\n  <thead>\n    <tr style=\"text-align: right;\">\n      <th></th>\n      <th>filename</th>\n      <th>bbox</th>\n    </tr>\n  </thead>\n  <tbody>\n    <tr>\n      <th>0</th>\n      <td>IMG_1162.JPG</td>\n      <td>[1923.3, 1444.3, 2197.9, 1647.5, 4032.0, 3024.0]</td>\n    </tr>\n    <tr>\n      <th>1</th>\n      <td>IMG_1162.JPG</td>\n      <td>[443.4, 1847.2, 1727.2, 2007.7, 4032.0, 3024.0]</td>\n    </tr>\n    <tr>\n      <th>2</th>\n      <td>IMG_1162.JPG</td>\n      <td>[265.1, 1183.9, 561.1, 1401.5, 4032.0, 3024.0]</td>\n    </tr>\n    <tr>\n      <th>3</th>\n      <td>IMG_1162.JPG</td>\n      <td>[1039.0, 688.3, 1249.4, 830.9, 4032.0, 3024.0]</td>\n    </tr>\n    <tr>\n      <th>4</th>\n      <td>IMG_1162.JPG</td>\n      <td>[1031.8, 955.7, 1334.9, 1126.9, 4032.0, 3024.0]</td>\n    </tr>\n  </tbody>\n</table>\n</div>"
     },
     "metadata": {},
     "execution_count": 56
    }
   ],
   "source": [
    "df.head()"
   ]
  },
  {
   "cell_type": "code",
   "execution_count": 57,
   "metadata": {},
   "outputs": [],
   "source": [
    "df = df.groupby('filename')['bbox'].apply(list).reset_index(name ='bboxes')"
   ]
  },
  {
   "cell_type": "code",
   "execution_count": 59,
   "metadata": {},
   "outputs": [
    {
     "output_type": "execute_result",
     "data": {
      "text/plain": [
       "         filename                                             bboxes\n",
       "0    IMG_1087.JPG  [[2008.9, 2760.1, 2444.0, 2860.0, 4032.0, 3024...\n",
       "1    IMG_1091.JPG  [[3528.1, 1959.8, 3683.8, 2277.8, 4032.0, 3024...\n",
       "2    IMG_1092.JPG     [[0.0, 999.4, 4032.0, 2342.6, 4032.0, 3024.0]]\n",
       "3    IMG_1093.JPG  [[1210.1, 1098.3, 3239.2, 2018.4, 4032.0, 3024...\n",
       "4    IMG_1094.JPG  [[1512.0, 2943.2, 1635.6, 3057.3, 3024.0, 4032...\n",
       "..            ...                                                ...\n",
       "386  IMG_6588.JPG  [[1241.8, 2000.4, 1896.5, 2384.9, 3024.0, 4032...\n",
       "387  IMG_6589.JPG  [[1023.6, 722.2, 1111.9, 898.9, 3024.0, 4032.0...\n",
       "388  IMG_6590.JPG  [[1408.1, 2016.0, 1673.1, 2416.1, 3024.0, 4032...\n",
       "389  IMG_6591.JPG  [[1080.7, 1751.0, 2104.3, 2431.7, 3024.0, 4032...\n",
       "390  IMG_6593.JPG  [[1288.6, 1860.1, 2151.1, 2629.1, 3024.0, 4032...\n",
       "\n",
       "[391 rows x 2 columns]"
      ],
      "text/html": "<div>\n<style scoped>\n    .dataframe tbody tr th:only-of-type {\n        vertical-align: middle;\n    }\n\n    .dataframe tbody tr th {\n        vertical-align: top;\n    }\n\n    .dataframe thead th {\n        text-align: right;\n    }\n</style>\n<table border=\"1\" class=\"dataframe\">\n  <thead>\n    <tr style=\"text-align: right;\">\n      <th></th>\n      <th>filename</th>\n      <th>bboxes</th>\n    </tr>\n  </thead>\n  <tbody>\n    <tr>\n      <th>0</th>\n      <td>IMG_1087.JPG</td>\n      <td>[[2008.9, 2760.1, 2444.0, 2860.0, 4032.0, 3024...</td>\n    </tr>\n    <tr>\n      <th>1</th>\n      <td>IMG_1091.JPG</td>\n      <td>[[3528.1, 1959.8, 3683.8, 2277.8, 4032.0, 3024...</td>\n    </tr>\n    <tr>\n      <th>2</th>\n      <td>IMG_1092.JPG</td>\n      <td>[[0.0, 999.4, 4032.0, 2342.6, 4032.0, 3024.0]]</td>\n    </tr>\n    <tr>\n      <th>3</th>\n      <td>IMG_1093.JPG</td>\n      <td>[[1210.1, 1098.3, 3239.2, 2018.4, 4032.0, 3024...</td>\n    </tr>\n    <tr>\n      <th>4</th>\n      <td>IMG_1094.JPG</td>\n      <td>[[1512.0, 2943.2, 1635.6, 3057.3, 3024.0, 4032...</td>\n    </tr>\n    <tr>\n      <th>...</th>\n      <td>...</td>\n      <td>...</td>\n    </tr>\n    <tr>\n      <th>386</th>\n      <td>IMG_6588.JPG</td>\n      <td>[[1241.8, 2000.4, 1896.5, 2384.9, 3024.0, 4032...</td>\n    </tr>\n    <tr>\n      <th>387</th>\n      <td>IMG_6589.JPG</td>\n      <td>[[1023.6, 722.2, 1111.9, 898.9, 3024.0, 4032.0...</td>\n    </tr>\n    <tr>\n      <th>388</th>\n      <td>IMG_6590.JPG</td>\n      <td>[[1408.1, 2016.0, 1673.1, 2416.1, 3024.0, 4032...</td>\n    </tr>\n    <tr>\n      <th>389</th>\n      <td>IMG_6591.JPG</td>\n      <td>[[1080.7, 1751.0, 2104.3, 2431.7, 3024.0, 4032...</td>\n    </tr>\n    <tr>\n      <th>390</th>\n      <td>IMG_6593.JPG</td>\n      <td>[[1288.6, 1860.1, 2151.1, 2629.1, 3024.0, 4032...</td>\n    </tr>\n  </tbody>\n</table>\n<p>391 rows × 2 columns</p>\n</div>"
     },
     "metadata": {},
     "execution_count": 59
    }
   ],
   "source": [
    "df"
   ]
  },
  {
   "cell_type": "code",
   "execution_count": 60,
   "metadata": {},
   "outputs": [],
   "source": [
    "df_train , df_valid = train_test_split(df , test_size = 0.1 , random_state = 42, shuffle= True)"
   ]
  },
  {
   "cell_type": "code",
   "execution_count": 63,
   "metadata": {},
   "outputs": [],
   "source": [
    "df_train =df_train.reset_index(drop=True)\n",
    "df_valid = df_valid.reset_index(drop=True)"
   ]
  },
  {
   "cell_type": "code",
   "execution_count": 77,
   "metadata": {},
   "outputs": [],
   "source": [
    "def preprocess(data, data_type ='train'):\n",
    "    OUTPUT_PATH = 'dataset'\n",
    "    for _ , row in tqdm(data.iterrows(), total = len(data)):\n",
    "        image_name = row['filename']\n",
    "        boxes = row['bboxes']\n",
    "        yolo_data = []\n",
    "        for bbox in boxes:\n",
    "            width = bbox[4]\n",
    "            height = bbox[5]\n",
    "            xmin = (1024 *bbox[0])/width\n",
    "            ymin = (1024*bbox[1])/height\n",
    "            xmax = (1024*bbox[2])/width\n",
    "            ymax = (1024*bbox[3])/height\n",
    "\n",
    "            w = xmax - xmin \n",
    "            h = ymax - ymin \n",
    "\n",
    "            x_center = xmin+w/2\n",
    "            y_center = ymin+h/2\n",
    "\n",
    "            x_center /= 1024\n",
    "            y_center /= 1024 \n",
    "            w /= 1024 \n",
    "            h /= 1024\n",
    "\n",
    "            yolo_data.append([0 , x_center , y_center , w, h])\n",
    "        yolo_data = np.array(yolo_data)\n",
    "        label_path = image_name[:-4]\n",
    "        img = Image.open(os.path.join('image', image_name))\n",
    "        img = img.resize((1024 , 1024))\n",
    "        np.savetxt(\n",
    "            os.path.join(OUTPUT_PATH , f\"labels/{data_type}/{label_path}.txt\"),\n",
    "            yolo_data,\n",
    "            fmt = [\"%d\" , \"%f\" , \"%f\" , \"%f\" , \"%f\"]\n",
    "        )\n",
    "\n",
    "        filename = os.path.join(OUTPUT_PATH , f\"images/{data_type}/{image_name}\")\n",
    "        img.save(filename)\n"
   ]
  },
  {
   "cell_type": "code",
   "execution_count": 78,
   "metadata": {},
   "outputs": [
    {
     "output_type": "stream",
     "name": "stderr",
     "text": [
      "100%|██████████| 351/351 [03:18<00:00,  1.77it/s]\n"
     ]
    }
   ],
   "source": [
    "preprocess(df_train)"
   ]
  },
  {
   "cell_type": "code",
   "execution_count": 79,
   "metadata": {},
   "outputs": [
    {
     "output_type": "stream",
     "name": "stderr",
     "text": [
      "100%|██████████| 40/40 [00:08<00:00,  4.88it/s]\n"
     ]
    }
   ],
   "source": [
    "preprocess(df_valid , 'validation')"
   ]
  },
  {
   "cell_type": "code",
   "execution_count": null,
   "metadata": {},
   "outputs": [],
   "source": []
  }
 ]
}