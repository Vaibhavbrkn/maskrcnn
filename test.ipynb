{
 "metadata": {
  "language_info": {
   "codemirror_mode": {
    "name": "ipython",
    "version": 3
   },
   "file_extension": ".py",
   "mimetype": "text/x-python",
   "name": "python",
   "nbconvert_exporter": "python",
   "pygments_lexer": "ipython3",
   "version": "3.8.3-final"
  },
  "orig_nbformat": 2,
  "kernelspec": {
   "name": "python3",
   "display_name": "Python 3.8.3 64-bit ('mask')",
   "metadata": {
    "interpreter": {
     "hash": "bcecadf410e67f3ba34e8bd6cebe9f35c8d7ff0df3491179dc95cbe67fc56319"
    }
   }
  }
 },
 "nbformat": 4,
 "nbformat_minor": 2,
 "cells": [
  {
   "cell_type": "code",
   "execution_count": 10,
   "metadata": {},
   "outputs": [],
   "source": [
    "import os\n",
    "import json\n",
    "from PIL import Image"
   ]
  },
  {
   "cell_type": "code",
   "execution_count": 24,
   "metadata": {},
   "outputs": [
    {
     "output_type": "execute_result",
     "data": {
      "text/plain": [
       "dict_keys(['info', 'licenses', 'images', 'annotations', 'categories'])"
      ]
     },
     "metadata": {},
     "execution_count": 24
    }
   ],
   "source": []
  },
  {
   "cell_type": "code",
   "execution_count": 27,
   "metadata": {},
   "outputs": [],
   "source": [
    "def preprocess(annotate_file = 'annotation.json' , image_file = 'train'):\n",
    "    \"\"\"\n",
    "    annoate_file: annotation file \n",
    "    imahe_file: image folder\n",
    "    \"\"\"\n",
    "    with open(annotate_file) as json_file:\n",
    "        data = json.load(json_file)\n",
    "    annotate = {}\n",
    "    for i in range(len(data['images'])):\n",
    "        ant = {}\n",
    "        ant['filename'] = data['images'][i]['file_name']\n",
    "        ls = []\n",
    "        img = cv2.imread(os.path.join(image_file , data['images'][i]['file_name']))\n",
    "        height , width = img.shape[0] , img.shape[1]\n",
    "        for j in range(len(data['annotations'][i]['segmentation'])):\n",
    "            region = {}\n",
    "            region['name'] = 'polygon'\n",
    "            all_x = []\n",
    "            all_y = []\n",
    "            for k in range(0 , len(data['annotations'][i]['segmentation'][j]) ,2):\n",
    "                x = data['annotations'][i]['segmentation'][j][k]\n",
    "                y = data['annotations'][i]['segmentation'][j][k+1]\n",
    "                x = int((1024*x)/width) \n",
    "                y = int((1024*y)/height)\n",
    "                all_x.append(x)\n",
    "                all_y.append(y)\n",
    "            \n",
    "            region['all_points_x'] = all_x\n",
    "            region['all_points_y'] = all_y \n",
    "\n",
    "            ls.append(region)\n",
    "        ant['regions'] = ls \n",
    "        img = cv2.resize(img , (1024 , 1024))\n",
    "        cv2.imwrite((os.path.join(image_file , data['images'][i]['file_name'])) , img)\n",
    "        annotate[data['images'][i]['file_name']] = ant \n",
    "\n",
    "    with open(\"via_region_data.json\", \"w\") as outfile: # save json file keep name this only\n",
    "        json.dump(annotate, outfile) \n",
    "\"\"\"\n",
    "image is now tranformed into shape of 1024 * 1024 , and keep this via_region_data.json inside train folder\n",
    "inside scratch or data folder keep seperate directory of train and val with same name \n",
    "\"\"\""
   ]
  }
 ]
}